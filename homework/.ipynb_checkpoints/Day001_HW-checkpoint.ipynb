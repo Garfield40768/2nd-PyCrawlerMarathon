{
 "cells": [
  {
   "cell_type": "code",
   "execution_count": 1,
   "metadata": {},
   "outputs": [
    {
     "data": {
      "text/plain": [
       "('Homework.txt', <http.client.HTTPMessage at 0x205c1c57ba8>)"
      ]
     },
     "execution_count": 1,
     "metadata": {},
     "output_type": "execute_result"
    }
   ],
   "source": [
    "from urllib.request import urlretrieve\n",
    "\n",
    "urlretrieve (\"https://www.w3.org/TR/PNG/iso_8859-1.txt\", \"Homework.txt\")"
   ]
  },
  {
   "cell_type": "code",
   "execution_count": 2,
   "metadata": {},
   "outputs": [
    {
     "name": "stdout",
     "output_type": "stream",
     "text": [
      ".ipynb_checkpoints\n",
      "Day001_HW.ipynb\n",
      "Homework.txt\n"
     ]
    }
   ],
   "source": [
    "import os, sys\n",
    "dirs=os.listdir('./')\n",
    "for file in dirs:\n",
    "    print(file)"
   ]
  },
  {
   "cell_type": "code",
   "execution_count": 3,
   "metadata": {},
   "outputs": [
    {
     "name": "stdout",
     "output_type": "stream",
     "text": [
      "11\n"
     ]
    }
   ],
   "source": [
    "fh=open(\"Homework.txt\",\"w\")\n",
    "f=fh.write(\"Hello world\")\n",
    "fh.close()\n",
    "\n",
    "print(f)"
   ]
  },
  {
   "cell_type": "code",
   "execution_count": 4,
   "metadata": {},
   "outputs": [
    {
     "name": "stdout",
     "output_type": "stream",
     "text": [
      "Hello world\n"
     ]
    }
   ],
   "source": [
    "fh=open(\"Homework.txt\",\"r\")\n",
    "f=fh.read()\n",
    "fh.close()\n",
    "\n",
    "print(f)"
   ]
  },
  {
   "cell_type": "code",
   "execution_count": 5,
   "metadata": {},
   "outputs": [
    {
     "name": "stdout",
     "output_type": "stream",
     "text": [
      "簡答題:\n",
      "1.檔案:\n",
      "資料會包成檔案提供下載。\n",
      "2.API:\n",
      "提供程式化的連接的接口。\n",
      "3.爬蟲:\n",
      "資料沒有以檔案或API提供，但出現在網路上。可以利用爬蟲程式，將網頁的資料解析所需的部分。\n"
     ]
    }
   ],
   "source": [
    "print(\"簡答題:\\n1.檔案:\\n資料會包成檔案提供下載。\\n\" \\\n",
    "\"2.API:\\n提供程式化的連接的接口。\\n\" \\\n",
    "\"3.爬蟲:\\n資料沒有以檔案或API提供，但出現在網路上。\" \\\n",
    "\"可以利用爬蟲程式，將網頁的資料解析所需的部分。\")"
   ]
  },
  {
   "cell_type": "code",
   "execution_count": null,
   "metadata": {},
   "outputs": [],
   "source": []
  }
 ],
 "metadata": {
  "kernelspec": {
   "display_name": "Python 3",
   "language": "python",
   "name": "python3"
  },
  "language_info": {
   "codemirror_mode": {
    "name": "ipython",
    "version": 3
   },
   "file_extension": ".py",
   "mimetype": "text/x-python",
   "name": "python",
   "nbconvert_exporter": "python",
   "pygments_lexer": "ipython3",
   "version": "3.7.3"
  }
 },
 "nbformat": 4,
 "nbformat_minor": 2
}
